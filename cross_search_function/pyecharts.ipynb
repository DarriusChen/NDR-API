{
 "cells": [
  {
   "cell_type": "code",
   "execution_count": 3,
   "id": "e333b524",
   "metadata": {},
   "outputs": [
    {
     "name": "stdout",
     "output_type": "stream",
     "text": [
      "Requirement already satisfied: pyecharts in c:\\users\\user\\anaconda3\\lib\\site-packages (1.9.1)\n",
      "Requirement already satisfied: jinja2 in c:\\users\\user\\anaconda3\\lib\\site-packages (from pyecharts) (2.11.3)\n",
      "Requirement already satisfied: simplejson in c:\\users\\user\\anaconda3\\lib\\site-packages (from pyecharts) (3.17.6)\n",
      "Requirement already satisfied: prettytable in c:\\users\\user\\anaconda3\\lib\\site-packages (from pyecharts) (3.1.1)\n",
      "Requirement already satisfied: MarkupSafe>=0.23 in c:\\users\\user\\anaconda3\\lib\\site-packages (from jinja2->pyecharts) (1.1.1)\n",
      "Requirement already satisfied: importlib-metadata in c:\\users\\user\\anaconda3\\lib\\site-packages (from prettytable->pyecharts) (4.8.1)\n",
      "Requirement already satisfied: wcwidth in c:\\users\\user\\anaconda3\\lib\\site-packages (from prettytable->pyecharts) (0.2.5)\n",
      "Requirement already satisfied: typing-extensions>=3.6.4 in c:\\users\\user\\anaconda3\\lib\\site-packages (from importlib-metadata->prettytable->pyecharts) (3.10.0.2)\n",
      "Requirement already satisfied: zipp>=0.5 in c:\\users\\user\\anaconda3\\lib\\site-packages (from importlib-metadata->prettytable->pyecharts) (3.6.0)\n",
      "Note: you may need to restart the kernel to use updated packages.\n"
     ]
    },
    {
     "name": "stderr",
     "output_type": "stream",
     "text": [
      "WARNING: Ignoring invalid distribution -umpy (c:\\users\\user\\anaconda3\\lib\\site-packages)\n",
      "WARNING: Ignoring invalid distribution -cipy (c:\\users\\user\\anaconda3\\lib\\site-packages)\n",
      "WARNING: Ignoring invalid distribution -umpy (c:\\users\\user\\anaconda3\\lib\\site-packages)\n",
      "WARNING: Ignoring invalid distribution -cipy (c:\\users\\user\\anaconda3\\lib\\site-packages)\n",
      "WARNING: Ignoring invalid distribution -umpy (c:\\users\\user\\anaconda3\\lib\\site-packages)\n",
      "WARNING: Ignoring invalid distribution -cipy (c:\\users\\user\\anaconda3\\lib\\site-packages)\n",
      "WARNING: Ignoring invalid distribution -umpy (c:\\users\\user\\anaconda3\\lib\\site-packages)\n",
      "WARNING: Ignoring invalid distribution -cipy (c:\\users\\user\\anaconda3\\lib\\site-packages)\n"
     ]
    }
   ],
   "source": [
    "pip install pyecharts"
   ]
  },
  {
   "cell_type": "code",
   "execution_count": 10,
   "id": "bc9cc67c",
   "metadata": {},
   "outputs": [
    {
     "ename": "NameError",
     "evalue": "name 'Chart' is not defined",
     "output_type": "error",
     "traceback": [
      "\u001b[1;31m---------------------------------------------------------------------------\u001b[0m",
      "\u001b[1;31mNameError\u001b[0m                                 Traceback (most recent call last)",
      "\u001b[1;32m~\\AppData\\Local\\Temp/ipykernel_16328/3281055010.py\u001b[0m in \u001b[0;36m<module>\u001b[1;34m\u001b[0m\n\u001b[0;32m      5\u001b[0m \u001b[1;33m\u001b[0m\u001b[0m\n\u001b[0;32m      6\u001b[0m \u001b[1;33m\u001b[0m\u001b[0m\n\u001b[1;32m----> 7\u001b[1;33m \u001b[1;32mclass\u001b[0m \u001b[0mSankey\u001b[0m\u001b[1;33m(\u001b[0m\u001b[0mChart\u001b[0m\u001b[1;33m)\u001b[0m\u001b[1;33m:\u001b[0m\u001b[1;33m\u001b[0m\u001b[1;33m\u001b[0m\u001b[0m\n\u001b[0m\u001b[0;32m      8\u001b[0m     \"\"\"\n\u001b[0;32m      9\u001b[0m     \u001b[1;33m<<\u001b[0m\u001b[1;33m<\u001b[0m \u001b[0mSankey\u001b[0m \u001b[1;33m>>\u001b[0m\u001b[1;33m>\u001b[0m\u001b[1;33m\u001b[0m\u001b[1;33m\u001b[0m\u001b[0m\n",
      "\u001b[1;31mNameError\u001b[0m: name 'Chart' is not defined"
     ]
    }
   ],
   "source": [
    "from pyecharts import options as opts\n",
    "from pyecharts import types\n",
    "# from pyecharts import Chart\n",
    "from pyecharts.globals import ChartType\n",
    "\n",
    "\n",
    "class Sankey(Chart):\n",
    "    \"\"\"\n",
    "    <<< Sankey >>>\n",
    "\n",
    "    Sankey diagram is a special flow diagram, which is mainly used to\n",
    "    express how raw materials, energy and so on from the initial form through\n",
    "    the intermediate process of processing, transformation to the final form.\n",
    "    \"\"\"\n",
    "\n",
    "    def add(\n",
    "        self,\n",
    "        series_name: str,\n",
    "        nodes: types.Sequence,\n",
    "        links: types.Sequence,\n",
    "        *,\n",
    "        is_selected: bool = True,\n",
    "        pos_left: types.Union[str, types.Numeric] = \"5%\",\n",
    "        pos_top: types.Union[str, types.Numeric] = \"5%\",\n",
    "        pos_right: types.Union[str, types.Numeric] = \"20%\",\n",
    "        pos_bottom: types.Union[str, types.Numeric] = \"5%\",\n",
    "        node_width: types.Numeric = 20,\n",
    "        node_gap: types.Numeric = 8,\n",
    "        node_align: str = \"justify\",\n",
    "        layout_iterations: types.Numeric = 32,\n",
    "        orient: str = \"horizontal\",\n",
    "        is_draggable: bool = True,\n",
    "        focus_node_adjacency: types.Union[bool, str] = False,\n",
    "        levels: types.SankeyLevel = None,\n",
    "        label_opts: types.Label = opts.LabelOpts(),\n",
    "        linestyle_opt: types.LineStyle = opts.LineStyleOpts(),\n",
    "        tooltip_opts: types.Tooltip = None,\n",
    "        itemstyle_opts: types.ItemStyle = None,\n",
    "    ):\n",
    "        if layout_iterations < 32:\n",
    "            layout_iterations = 32\n",
    "\n",
    "        self._append_legend(series_name, is_selected)\n",
    "        self.options.get(\"series\").append(\n",
    "            {\n",
    "                \"type\": ChartType.SANKEY,\n",
    "                \"name\": series_name,\n",
    "                \"data\": nodes,\n",
    "                \"links\": links,\n",
    "                \"left\": pos_left,\n",
    "                \"top\": pos_top,\n",
    "                \"right\": pos_right,\n",
    "                \"bottom\": pos_bottom,\n",
    "                \"nodeWidth\": node_width,\n",
    "                \"nodeGap\": node_gap,\n",
    "                \"nodeAlign\": node_align,\n",
    "                \"layoutIteration\": layout_iterations,\n",
    "                \"orient\": orient,\n",
    "                \"draggable\": is_draggable,\n",
    "                \"focusNodeAdjacency\": focus_node_adjacency,\n",
    "                \"levels\": levels,\n",
    "                \"label\": label_opts,\n",
    "                \"lineStyle\": linestyle_opt,\n",
    "                \"tooltip\": tooltip_opts,\n",
    "                \"itemStyle\": itemstyle_opts,\n",
    "            }\n",
    "        )\n",
    "        return self"
   ]
  },
  {
   "cell_type": "code",
   "execution_count": 4,
   "id": "68a4d7c8",
   "metadata": {},
   "outputs": [],
   "source": [
    "import pyecharts"
   ]
  },
  {
   "cell_type": "code",
   "execution_count": null,
   "id": "0a1ce68b",
   "metadata": {},
   "outputs": [],
   "source": []
  }
 ],
 "metadata": {
  "kernelspec": {
   "display_name": "Python 3 (ipykernel)",
   "language": "python",
   "name": "python3"
  },
  "language_info": {
   "codemirror_mode": {
    "name": "ipython",
    "version": 3
   },
   "file_extension": ".py",
   "mimetype": "text/x-python",
   "name": "python",
   "nbconvert_exporter": "python",
   "pygments_lexer": "ipython3",
   "version": "3.7.11"
  }
 },
 "nbformat": 4,
 "nbformat_minor": 5
}
