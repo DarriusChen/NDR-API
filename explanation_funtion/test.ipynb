{
 "cells": [
  {
   "cell_type": "code",
   "execution_count": 1,
   "id": "0320752d",
   "metadata": {},
   "outputs": [],
   "source": [
    "def get_exdata_by_timerange(num_of_days): \n",
    "    # num_of days should between 1~30 (if today is Feb 28, then the range must between 1-28, if Feb 29 ,then 1-29)\n",
    "    \n",
    "    # To specify the time range for choosing index\n",
    "    now = datetime.today()\n",
    "    now_strft = datetime.strftime(now,\"%Y-%m-%d\")\n",
    "    now_strpt = datetime.strptime(now_strft,\"%Y-%m-%d\")\n",
    "    before_strft = datetime.strftime(now-timedelta(num_of_days),\"%Y-%m-%d\")\n",
    "    now_year = now_strft[2:4]\n",
    "    before_year = before_strft[2:4]\n",
    "    now_month = now_strft[5:7]\n",
    "    before_month = before_strft[5:7]\n",
    "    inter_index = \"ai-alert-internet-20\"\n",
    "    intra_index = \"ai-alert-intranet-20\"\n",
    "    if now_year==before_year and now_month==before_month: \n",
    "        # If the pass time and today are in the same year and same month\n",
    "        index_list = [inter_index+f'{now_year}-{now_month}',intra_index+f'{now_year}-{now_month}']\n",
    "    elif now_year==before_year and now_month!=before_month: \n",
    "        # If the pass time and today are in the same year but in different month\n",
    "        index_list = [inter_index+f'{now_year}-{now_month}',inter_index+f'{now_year}-{before_month}', \\\n",
    "                      intra_index+f'{now_year}-{before_month}',intra_index+f'{now_year}-{before_month}']\n",
    "    elif now_year!=before_year and now_month!=before_month:\n",
    "        # If the pass time and today are in both differnent year and different month\n",
    "        index_list = [inter_index+f'{now_year}-{now_month}',inter_index+f'{before_year}-{before_month}', \\\n",
    "                      intra_index+f'{now_year}-{now_month}',intra_index+f'{before_year}-{before_month}']                \n",
    "    else:\n",
    "        print(\"There are some errors, please try again!\")\n",
    "        \n",
    "    # Start grabing data\n",
    "    es = connect_ES() # connect to elasticsearch\n",
    "    search = Search(using=es, index=index_list) \\\n",
    "            .filter(\"range\", ingest_timestamp = {\"gt\":f\"now-14d/d\", \"lt\":\"now\"}) \\\n",
    "            .extra(from_=0, size=10000) # Default only grab 10 data\n",
    "    response = search.execute() #Execute the query\n",
    "    response_list = response.hits.hits\n",
    "    # Transform those data to dataframe so that we can get the data we need quickly\n",
    "    data_list = []\n",
    "    for i in response_list:\n",
    "        data_list.append(i[\"_source\"].to_dict())\n",
    "    ex_df = pd.DataFrame(data_list)\n",
    "    df_clean = ex_df[['category','ingest_timestamp','explanation']]"
   ]
  },
  {
   "cell_type": "code",
   "execution_count": null,
   "id": "98166f16",
   "metadata": {},
   "outputs": [],
   "source": []
  }
 ],
 "metadata": {
  "kernelspec": {
   "display_name": "Python 3 (ipykernel)",
   "language": "python",
   "name": "python3"
  },
  "language_info": {
   "codemirror_mode": {
    "name": "ipython",
    "version": 3
   },
   "file_extension": ".py",
   "mimetype": "text/x-python",
   "name": "python",
   "nbconvert_exporter": "python",
   "pygments_lexer": "ipython3",
   "version": "3.7.11"
  }
 },
 "nbformat": 4,
 "nbformat_minor": 5
}
